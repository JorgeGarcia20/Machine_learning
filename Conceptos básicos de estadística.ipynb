{
 "cells": [
  {
   "cell_type": "markdown",
   "metadata": {},
   "source": [
    "# Medidas básicas de la estadística descriptiva\n",
    "La estadistica descriptiva es la técnica matemática que obtiene, organiza, presenta y describe un conjunto de datos con el proposito de facilitr el uso, generalmente con el apoyo de tablas, medidas numéricas o gráficas.\n",
    "\n",
    "* x = {x1, x2,...xn}\n",
    "* |x| = n"
   ]
  },
  {
   "cell_type": "markdown",
   "metadata": {},
   "source": [
    "# Medidas de centralización\n",
    "La medida de tendencia central o medida de centralización es un número situado hacia el centro de la distribución de los valores de una serie de observaciones(medidas), en la que se encuentra ubicado el conjunto de datos. Las medidas de tendencia central más utilizadas son: media, mediana y moda"
   ]
  },
  {
   "cell_type": "markdown",
   "metadata": {},
   "source": [
    "## Media\n",
    "La media o media aritmética es el valor obtenido por la suma de tosos sus valores dividida entre el número de sumadores.\n",
    "* media = x1 +x2 + x3 +...+ xn / n"
   ]
  },
  {
   "cell_type": "code",
   "execution_count": 1,
   "metadata": {},
   "outputs": [],
   "source": [
    "import numpy as np"
   ]
  },
  {
   "cell_type": "code",
   "execution_count": 6,
   "metadata": {},
   "outputs": [
    {
     "name": "stdout",
     "output_type": "stream",
     "text": [
      "8.725\n"
     ]
    }
   ],
   "source": [
    "x = [10.0, 9.5, 8.0, 6.8, 8.7, 7.9, 9.4, 9.5]\n",
    "media = np.mean(x)\n",
    "print(media)"
   ]
  },
  {
   "cell_type": "markdown",
   "metadata": {},
   "source": [
    "## Moda \n",
    "La moda es el dato más repetido en la encuesta, el valor de la variable con mayor frecuencia absoluta.\n",
    "Su calculo es extremadamente sencillo, pues solo necesia un recuento. En varibles continuas, expresadas de intervalos, existe el denominado intervalo modal o, en su defecto, si es necesario obtener un calor concreto de la variable, se recurre a la interpolación."
   ]
  },
  {
   "cell_type": "code",
   "execution_count": 8,
   "metadata": {},
   "outputs": [],
   "source": [
    "from scipy import stats as st"
   ]
  },
  {
   "cell_type": "code",
   "execution_count": 10,
   "metadata": {},
   "outputs": [
    {
     "name": "stdout",
     "output_type": "stream",
     "text": [
      "ModeResult(mode=array([9.5]), count=array([2]))\n"
     ]
    }
   ],
   "source": [
    "moda = st.mode(x)\n",
    "print(moda)"
   ]
  },
  {
   "cell_type": "markdown",
   "metadata": {},
   "source": [
    "## Mediana\n",
    "La mediana es un valor de la variable que deha por debajp de si a la mitas de los datos, una vez que éstos están ordenados de menor a mayor.\n",
    "si dos datos comparten la posicion central estod datos se suman y se dividen entre dos y asi se obtiene la mediana."
   ]
  },
  {
   "cell_type": "code",
   "execution_count": 11,
   "metadata": {},
   "outputs": [
    {
     "name": "stdout",
     "output_type": "stream",
     "text": [
      "9.05\n"
     ]
    }
   ],
   "source": [
    "mediana = np.median(x)\n",
    "print(mediana)"
   ]
  },
  {
   "cell_type": "markdown",
   "metadata": {},
   "source": [
    "# Medidas de dispersión"
   ]
  },
  {
   "cell_type": "markdown",
   "metadata": {},
   "source": [
    "Las medidas de dispersión tratan, a través del cálculo de diferentes fórmulas, de arrojar un valor numérico que ofrezcan información sobre el grado de variabilidad de una variable.\n",
    "Las medidas de dispersión son números que indican si una variable se mueve mucho, poco, más o menos que otra. La razon de ser de este tipo de medidas es conocer de manera resumida una característica de la variable estudiada. En este sentido, deben acompañar a las medidas de tendencia central. Juntas, ofrecen información de un sólo vistazo que luego podremos utilizar para comparar y si fuera preciso, tomar decisiones.\n"
   ]
  },
  {
   "cell_type": "markdown",
   "metadata": {},
   "source": [
    "## Varianza\n",
    "La varianza es una medida de dispersión que representa la variabildad de una seria de datos respecto a su medida. Formalmente se calcula como la suma de los residuos al cuadrado divididos entre el total de observaciones."
   ]
  },
  {
   "cell_type": "markdown",
   "metadata": {},
   "source": [
    "## Desviación típica\n",
    "la desviación típica es otra medida que ofrece información de la disperción respecto a la media. Su cálculo es exactamente el mismo que la varianza, pero realizando la raíz cuadrada de su resultado. Es decir, la desviación típica es la raíz cuadrada de la varianza."
   ]
  },
  {
   "cell_type": "markdown",
   "metadata": {},
   "source": [
    "## Coeficiente de variación\n",
    "Su cálculo se obtinen de dividir la desviación típica entre el valor absoluto de la media del conjunto y por lo general se expresa en porcentaje para su mejor compresión."
   ]
  },
  {
   "cell_type": "markdown",
   "metadata": {},
   "source": [
    "## Medidas de asimetría\n",
    "Son indicadores que permiten establecer el grado de simetría o asimetría que presenta una distribución de probabilidad de una variable aleatoria sin tener que hacer su representación gráfica.\n",
    "https://es.wikipedia.org/wiki/Asimetr%C3%ADa_estad%C3%ADstica#:~:text=Las%20medidas%20de%20asimetr%C3%ADa%20son,que%20hacer%20su%20representaci%C3%B3n%20gr%C3%A1fica."
   ]
  },
  {
   "cell_type": "markdown",
   "metadata": {},
   "source": [
    "## Coeficiente de asimetría de Fisher\n",
    "En teoria de probabilidad y estadística, la medida de asimetría más utilizada parte del uso del tercer momento estandar. La razón de esto es que nos intersa mantener el signo de las desviaciones con respecto a la media, para obtener si son mayores las que ocurren a la derecha de la media que las de la izquierda."
   ]
  },
  {
   "cell_type": "markdown",
   "metadata": {},
   "source": [
    "## Curtosis \n",
    "La curtosis es una medida estadística que determina el grado de concentración que representan los valores de una variablealrededor de la zona cetral de la distribución de frecuencias. También es conocida como medida de apuntamiento"
   ]
  },
  {
   "cell_type": "markdown",
   "metadata": {},
   "source": [
    "## Tipos de custosis\n",
    "1. Leptocúrtica: Existe en una gran concentracion de los valores en torno a su media (g2 > 3)\n",
    "2. Mesocúrtica: Existe una concentración normal de los valores en torno a su media (g2 = 3) \n",
    "3. Platicúrtica: Existe una baja concentración de los valores en torno a su media(g2 < 3)\n",
    " \n",
    "https://economipedia.com/definiciones/curtosis.html#:~:text=La%20curtosis%20es%20una%20medida,conocida%20como%20medida%20de%20apuntamiento."
   ]
  },
  {
   "cell_type": "markdown",
   "metadata": {},
   "source": [
    "## Teorema central del límite(TCL)\n",
    "El teorema central del limite es una teoría estadística que establece que, dada una muestra suficientemente grande de la población, la distribución de las medias muestrales seguirá una distribución normal.\n",
    "Además, el TCL afirma que a medida que el tamaño de la muestra se incremente, la media muestral se acercará a la media de la población. Por lo tanto, mediante el TCl podemos definir la distribucion de la media muestral de una determinada población con una varianza conocida. De manera que la distribución seguirá una distribución normal si el tamaño de la muestra es suficientemente grande.\n",
    "\n",
    "https://economipedia.com/definiciones/teorema-central-del-limite.html"
   ]
  },
  {
   "cell_type": "markdown",
   "metadata": {},
   "source": [
    "## Contraste de hipótesis\n",
    "El contraste de hipótesis es un tipo de modelo utilizado en inferencia estadística cuyo objetivo es comprobar si una estimación se adapta a los valores poblacionales. En palabras menos abstractas, el objetivo de los métodos de contraste de hipótesis es verificar si una estimación se adapta a la realidad de forma 'fiable'\n",
    "\n",
    "https://economipedia.com/definiciones/contraste-de-hipotesis.html"
   ]
  },
  {
   "cell_type": "markdown",
   "metadata": {},
   "source": [
    "## Prueba chi cuadrada\n",
    "En estadística y estadística aplicada se denomina puebra x^2 a cualquier prueba en la que el estadístico utilizado sigue una distribucion x^2 si la hipótesis nula es cierta. Algunos ejemplos de pruebas x^2 son:\n",
    "* La prueba x^2 de Pearson, la cual tiene numerosas aplicaciones:\n",
    "    * La prueba x^2 de frecuencias\n",
    "    * La prueba x^2 de independencia\n",
    "    * La prueba x^2 de bondad de ajuste\n",
    "* La prueba x^2 de Pearson con corrección por continuidad o corrección de Yates\n",
    "* La prueba de Bartlett de homogeneidad de varianzas\n",
    "https://es.wikipedia.org/wiki/Prueba_%CF%87%C2%B2"
   ]
  },
  {
   "cell_type": "markdown",
   "metadata": {},
   "source": [
    "## Correlación entre variables\n",
    "En probabilidad y estadística, la correlación indica la fuerza y la dirección de una relación lineal y proporcionalidad entre dos variables estadísticas. Se considera que dos variables cuantitativas están correlacionadas cuando los valores de una de ellas varían sistemáticas con respecto a los valores homónimos de la otra: si tenemos dos variables (A y B) existe correlación entre ellas si al disminuir los valores de A lo hacen también los de B y viceversa. La correlación entre dos variables no implica, por si misma, nunguna relación de casualidad."
   ]
  },
  {
   "cell_type": "markdown",
   "metadata": {},
   "source": [
    "## Fuerza, sentido y forma de la correlación\n",
    "La relación entre dos variables cuantitativas queda representada mediante la linea de mejor ajuste, trazada a partir de la nube de puntos. Los principales componentes elementales de una línea de ajuste y, por lo tanto, de una correlación, son la fuerza, el sentido y la forma:\n",
    "* La fuerza extrema según el caso, mide el grado en que la línea representa a la nube de puntos: si la nube es estrecha y alargada, se representa por una línea recta, lo que indica que la relación es fuerte; si la nube de puntos tiene una tendencia elíptica o circular, la relación es débil.\n",
    "* El sentido mide la variación de los valores de B con respecto a A: si al crecer los valores de A lo hacen los valores de A disminuyen los de B, la relación es inversa(pendiente negativa).\n",
    "* La forma establece el tipo de linea que define el mejor ajuste: la línea recta, la curva monotónica o la curva no monotónica.\n",
    "https://es.wikipedia.org/wiki/Correlaci%C3%B3n"
   ]
  }
 ],
 "metadata": {
  "kernelspec": {
   "display_name": "Python 3",
   "language": "python",
   "name": "python3"
  },
  "language_info": {
   "codemirror_mode": {
    "name": "ipython",
    "version": 3
   },
   "file_extension": ".py",
   "mimetype": "text/x-python",
   "name": "python",
   "nbconvert_exporter": "python",
   "pygments_lexer": "ipython3",
   "version": "3.8.5"
  }
 },
 "nbformat": 4,
 "nbformat_minor": 4
}
